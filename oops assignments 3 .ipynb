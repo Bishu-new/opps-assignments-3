{
 "cells": [
  {
   "cell_type": "markdown",
   "id": "dfabab46-33a6-4398-85af-f6b996fc6567",
   "metadata": {},
   "source": [
    "Q1 : What is Abstraction in OOps? Explain with an example."
   ]
  },
  {
   "cell_type": "markdown",
   "id": "f1b369b9-756d-4689-9c7d-723a968f559f",
   "metadata": {},
   "source": [
    "Ans: Abstraction: This refers to the process of exposing only the necessary details and hiding the complexity of an object from the outside world. Abstraction helps to reduce the complexity of the code and makes it easier to use and understand."
   ]
  },
  {
   "cell_type": "code",
   "execution_count": 1,
   "id": "4cc0a845-0318-466c-8925-34c71b2dde69",
   "metadata": {},
   "outputs": [],
   "source": [
    "## example of abstraction \n",
    "\n",
    "import abc\n",
    "class pwskills:\n",
    "    \n",
    "    @abc.abstractmethod\n",
    "    def student_details(self):\n",
    "        pass\n",
    "    @abc.abstractmethod\n",
    "    def student_assignment(self):\n",
    "        pass\n",
    "    @abc.abstractmethod\n",
    "    def student_marks(self):\n",
    "        pass"
   ]
  },
  {
   "cell_type": "code",
   "execution_count": 3,
   "id": "c75b778e-b1ca-4601-b32d-623798553f2c",
   "metadata": {},
   "outputs": [],
   "source": [
    "## creating different class \n",
    "class student_details(pwskills):\n",
    "    \n",
    "    def student_details(self):\n",
    "        return \"This is a method of taking student details\"\n",
    "    \n",
    "    def student_assignment(self):\n",
    "        return \"This is a method of getting the students marks\""
   ]
  },
  {
   "cell_type": "code",
   "execution_count": 4,
   "id": "6ab9f28b-02bd-4d3e-8d6c-c1a6d72a2556",
   "metadata": {},
   "outputs": [],
   "source": [
    "##creating another class\n",
    "class data_science_master(pwskills):\n",
    "    \n",
    "    def student_details(self):\n",
    "        return \"This will return the method of student from data science\"\n",
    "    \n",
    "    def student_assignment(self):\n",
    "        return \"This will return the method of assignments submited by data science master\"\n",
    "    \n",
    "    def student_marks(self):\n",
    "        return \"This will return the marks of assignemts submitted by data science\""
   ]
  },
  {
   "cell_type": "code",
   "execution_count": 5,
   "id": "7710c633-ccbc-418f-a16c-57a1e3029b84",
   "metadata": {},
   "outputs": [],
   "source": [
    "dsm = data_science_master()"
   ]
  },
  {
   "cell_type": "code",
   "execution_count": 7,
   "id": "f19a3f97-fe2c-4f3e-8a01-64166d730a26",
   "metadata": {},
   "outputs": [
    {
     "data": {
      "text/plain": [
       "'This will return the method of assignments submited by data science master'"
      ]
     },
     "execution_count": 7,
     "metadata": {},
     "output_type": "execute_result"
    }
   ],
   "source": [
    "dsm.student_assignment()"
   ]
  },
  {
   "cell_type": "code",
   "execution_count": 8,
   "id": "b7c17ed4-20ad-4576-9dc4-b243561e5bd4",
   "metadata": {},
   "outputs": [
    {
     "data": {
      "text/plain": [
       "'This is a method of taking student details'"
      ]
     },
     "execution_count": 8,
     "metadata": {},
     "output_type": "execute_result"
    }
   ],
   "source": [
    "sd = student_details()\n",
    "sd.student_details()"
   ]
  },
  {
   "cell_type": "markdown",
   "id": "f8dd3a18-a2f4-4184-b7eb-06a5255bc1b2",
   "metadata": {},
   "source": [
    "Differentiate between Abstraction and Encapsulation. Explain with an example."
   ]
  },
  {
   "cell_type": "markdown",
   "id": "f5eb5ae7-9530-42cc-9dac-503f77762764",
   "metadata": {},
   "source": [
    "Abstraction and encapsulation are two important concepts in object-oriented programming. They are often used together, but they are not the same thing.\n",
    "\n",
    "Abstraction is the process of hiding the complexity of a system and exposing only the necessary details to the user. It is a design-level process that reduces complexity by generalizing common features and behaviors. For example, a TV remote is an abstraction of a TV’s functionality. The user only interacts with the buttons on the remote, and doesn’t need to know how the TV works internally.\n",
    "\n",
    "Encapsulation, on the other hand, is the process of hiding data and controlling its visibility. It is an implementation-level process that provides privacy and maintains control over data. For example, in a bank account class, the balance data member might be private, so it can only be accessed through public methods like deposit and withdraw.\n",
    "\n",
    "Here’s an example in Python that demonstrates both abstraction and encapsulation:"
   ]
  },
  {
   "cell_type": "code",
   "execution_count": 1,
   "id": "c843f645-425f-461a-88bb-a8b6a50b9d5f",
   "metadata": {},
   "outputs": [
    {
     "name": "stdout",
     "output_type": "stream",
     "text": [
      "Drawing a circle!\n",
      "Drawing a rectangle!\n"
     ]
    }
   ],
   "source": [
    "from abc import ABC, abstractmethod\n",
    "\n",
    "class Shape(ABC):\n",
    "    @abstractmethod\n",
    "    def draw(self):\n",
    "        pass\n",
    "\n",
    "class Circle(Shape):\n",
    "    def draw(self):\n",
    "        print(\"Drawing a circle!\")\n",
    "\n",
    "class Rectangle(Shape):\n",
    "    def draw(self):\n",
    "        print(\"Drawing a rectangle!\")\n",
    "\n",
    "circle = Circle()\n",
    "circle.draw() # Drawing a circle!\n",
    "\n",
    "rectangle = Rectangle()\n",
    "rectangle.draw() # Drawing a rectangle!\n"
   ]
  },
  {
   "cell_type": "markdown",
   "id": "1815ac6c-4c09-4903-9dc0-21ed5e5192ec",
   "metadata": {},
   "source": [
    "Q3. What is abc module in python? Why is it used?"
   ]
  },
  {
   "cell_type": "markdown",
   "id": "fa6a219b-4f1e-4930-af55-7575728c1858",
   "metadata": {},
   "source": [
    "The abc module in Python provides the infrastructure for defining abstract base classes (ABCs) in Python, as outlined in PEP 31191. An abstract base class is a class that cannot be instantiated and serves as a blueprint for other classes to inherit from. It can define abstract methods that must be implemented by any concrete subclass.\n",
    "\n",
    "The main goal of the abstract base class is to provide a standardized way to test whether an object adheres to a given specification. It can also prevent any attempt to instantiate a subclass that doesn’t override a particular method in the superclass. And finally, using an abstract class, a class can derive identity from another class without any object inheritance.\n",
    "\n",
    "The abc module provides the metaclass ABCMeta for defining ABCs and a helper class ABC to alternatively define ABCs through inheritance1. With this class, an abstract base class can be created by simply deriving from ABC, avoiding sometimes confusing metaclass usage1"
   ]
  },
  {
   "cell_type": "markdown",
   "id": "7eff02f8-fbc2-4367-935d-13ad161de4e9",
   "metadata": {},
   "source": [
    "Q4. How can we achieve data abstraction?"
   ]
  },
  {
   "cell_type": "markdown",
   "id": "b66f050e-4ad0-4abb-a6c1-e45ca1d679b3",
   "metadata": {},
   "source": [
    "Data abstraction is the process of hiding the complexity of a system and exposing only the necessary details to the user. It is a design-level process that reduces complexity by generalizing common features and behaviors. There are several ways to achieve data abstraction, depending on the programming language and the specific use case.\n",
    "\n",
    "In object-oriented programming languages, data abstraction can be achieved through the use of classes and interfaces. A class defines a blueprint for an object, including its data members and methods. The data members can be hidden from the outside world by making them private or protected, so they can only be accessed through public methods. This is known as encapsulation.\n",
    "\n",
    "An interface, on the other hand, defines a set of methods that a class must implement, without specifying how those methods should be implemented. This allows for multiple classes to implement the same interface in different ways, while still adhering to a common specification. This is known as polymorphism.\n",
    "\n",
    "In functional programming languages, data abstraction can be achieved through the use of higher-order functions and closures. A higher-order function is a function that takes one or more functions as arguments and/or returns a function as its result. This allows for the creation of abstract data types that can be manipulated using a set of predefined operations.\n",
    "\n",
    "A closure is a function that “closes over” its environment, meaning it retains access to variables in its lexical scope even when it is invoked outside that scope. This allows for the creation of private data that can only be accessed through the closure."
   ]
  },
  {
   "cell_type": "markdown",
   "id": "7a3c39bc-722e-43bd-b332-d9b35aa97b36",
   "metadata": {},
   "source": [
    "Q5. Can we create an instance of an abstract class? Explain your answer."
   ]
  },
  {
   "cell_type": "markdown",
   "id": "88f7ca97-2e13-4656-ac36-a2e6d5a6177b",
   "metadata": {},
   "source": [
    "No, you cannot create an instance of an abstract class. An abstract class is a class that cannot be instantiated and serves as a blueprint for other classes to inherit from. It can define abstract methods that must be implemented by any concrete subclass.\n",
    "\n",
    "The purpose of an abstract class is to provide a common interface for all classes that inherit from it. This allows for polymorphism, where objects of different classes can be treated as objects of a common superclass. Since an abstract class is not a complete implementation, it doesn’t make sense to create an instance of it.\n",
    "\n",
    "Instead, you must create a concrete subclass that inherits from the abstract class and provides an implementation for all of its abstract methods. You can then create instances of the concrete subclass."
   ]
  }
 ],
 "metadata": {
  "kernelspec": {
   "display_name": "Python 3 (ipykernel)",
   "language": "python",
   "name": "python3"
  },
  "language_info": {
   "codemirror_mode": {
    "name": "ipython",
    "version": 3
   },
   "file_extension": ".py",
   "mimetype": "text/x-python",
   "name": "python",
   "nbconvert_exporter": "python",
   "pygments_lexer": "ipython3",
   "version": "3.10.8"
  }
 },
 "nbformat": 4,
 "nbformat_minor": 5
}
